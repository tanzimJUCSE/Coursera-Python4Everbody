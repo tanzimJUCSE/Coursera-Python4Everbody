{
  "nbformat": 4,
  "nbformat_minor": 0,
  "metadata": {
    "colab": {
      "name": "numpy.tile().ipynb",
      "provenance": []
    },
    "kernelspec": {
      "name": "python3",
      "display_name": "Python 3"
    }
  },
  "cells": [
    {
      "cell_type": "code",
      "metadata": {
        "id": "EWRSeHgIhmyk",
        "colab_type": "code",
        "colab": {}
      },
      "source": [
        "import numpy as np\n",
        "arr=np.array([1,2,3])"
      ],
      "execution_count": 0,
      "outputs": []
    },
    {
      "cell_type": "code",
      "metadata": {
        "id": "jk02jKxOhvNx",
        "colab_type": "code",
        "colab": {
          "base_uri": "https://localhost:8080/",
          "height": 34
        },
        "outputId": "eebc44b9-fa5c-46fd-9c8c-9607827481a7"
      },
      "source": [
        "arr"
      ],
      "execution_count": 2,
      "outputs": [
        {
          "output_type": "execute_result",
          "data": {
            "text/plain": [
              "array([1, 2, 3])"
            ]
          },
          "metadata": {
            "tags": []
          },
          "execution_count": 2
        }
      ]
    },
    {
      "cell_type": "code",
      "metadata": {
        "id": "w0Ny1wTmhvqN",
        "colab_type": "code",
        "colab": {
          "base_uri": "https://localhost:8080/",
          "height": 34
        },
        "outputId": "d6f7c136-e91f-4717-af5c-cbc6054c50e0"
      },
      "source": [
        "np.tile(arr,2)"
      ],
      "execution_count": 3,
      "outputs": [
        {
          "output_type": "execute_result",
          "data": {
            "text/plain": [
              "array([1, 2, 3, 1, 2, 3])"
            ]
          },
          "metadata": {
            "tags": []
          },
          "execution_count": 3
        }
      ]
    },
    {
      "cell_type": "code",
      "metadata": {
        "id": "M-bx1vSgiAvK",
        "colab_type": "code",
        "colab": {
          "base_uri": "https://localhost:8080/",
          "height": 50
        },
        "outputId": "5ef15209-82fd-47c5-9193-57a4e23387ef"
      },
      "source": [
        "arr2=np.array([[1,2,3],[4,5,6]])\n",
        "arr2"
      ],
      "execution_count": 5,
      "outputs": [
        {
          "output_type": "execute_result",
          "data": {
            "text/plain": [
              "array([[1, 2, 3],\n",
              "       [4, 5, 6]])"
            ]
          },
          "metadata": {
            "tags": []
          },
          "execution_count": 5
        }
      ]
    },
    {
      "cell_type": "code",
      "metadata": {
        "id": "11hy48dViUF6",
        "colab_type": "code",
        "colab": {
          "base_uri": "https://localhost:8080/",
          "height": 50
        },
        "outputId": "d1a2f3fd-58fd-4f53-c6d3-d7b89a5d7edc"
      },
      "source": [
        "np.tile(arr2,2)"
      ],
      "execution_count": 6,
      "outputs": [
        {
          "output_type": "execute_result",
          "data": {
            "text/plain": [
              "array([[1, 2, 3, 1, 2, 3],\n",
              "       [4, 5, 6, 4, 5, 6]])"
            ]
          },
          "metadata": {
            "tags": []
          },
          "execution_count": 6
        }
      ]
    },
    {
      "cell_type": "code",
      "metadata": {
        "id": "xm6BSJvXiaG1",
        "colab_type": "code",
        "colab": {
          "base_uri": "https://localhost:8080/",
          "height": 84
        },
        "outputId": "ce696248-2863-4b54-c238-48691a8f61c5"
      },
      "source": [
        "np.tile(arr2,(2,2))"
      ],
      "execution_count": 7,
      "outputs": [
        {
          "output_type": "execute_result",
          "data": {
            "text/plain": [
              "array([[1, 2, 3, 1, 2, 3],\n",
              "       [4, 5, 6, 4, 5, 6],\n",
              "       [1, 2, 3, 1, 2, 3],\n",
              "       [4, 5, 6, 4, 5, 6]])"
            ]
          },
          "metadata": {
            "tags": []
          },
          "execution_count": 7
        }
      ]
    },
    {
      "cell_type": "code",
      "metadata": {
        "id": "xdJqCZsDihtx",
        "colab_type": "code",
        "colab": {
          "base_uri": "https://localhost:8080/",
          "height": 101
        },
        "outputId": "0f5fc63e-a4e6-44b9-bc24-372a55358059"
      },
      "source": [
        "np.tile(arr2,(2,1,2))"
      ],
      "execution_count": 8,
      "outputs": [
        {
          "output_type": "execute_result",
          "data": {
            "text/plain": [
              "array([[[1, 2, 3, 1, 2, 3],\n",
              "        [4, 5, 6, 4, 5, 6]],\n",
              "\n",
              "       [[1, 2, 3, 1, 2, 3],\n",
              "        [4, 5, 6, 4, 5, 6]]])"
            ]
          },
          "metadata": {
            "tags": []
          },
          "execution_count": 8
        }
      ]
    },
    {
      "cell_type": "code",
      "metadata": {
        "id": "AN_lfon4ikWp",
        "colab_type": "code",
        "colab": {
          "base_uri": "https://localhost:8080/",
          "height": 168
        },
        "outputId": "61cfe6ad-e957-4979-b1ce-85bbf2a57ae3"
      },
      "source": [
        "np.tile(arr2,(2,2,2))"
      ],
      "execution_count": 10,
      "outputs": [
        {
          "output_type": "execute_result",
          "data": {
            "text/plain": [
              "array([[[1, 2, 3, 1, 2, 3],\n",
              "        [4, 5, 6, 4, 5, 6],\n",
              "        [1, 2, 3, 1, 2, 3],\n",
              "        [4, 5, 6, 4, 5, 6]],\n",
              "\n",
              "       [[1, 2, 3, 1, 2, 3],\n",
              "        [4, 5, 6, 4, 5, 6],\n",
              "        [1, 2, 3, 1, 2, 3],\n",
              "        [4, 5, 6, 4, 5, 6]]])"
            ]
          },
          "metadata": {
            "tags": []
          },
          "execution_count": 10
        }
      ]
    },
    {
      "cell_type": "code",
      "metadata": {
        "id": "tDTdxRzmioa2",
        "colab_type": "code",
        "colab": {
          "base_uri": "https://localhost:8080/",
          "height": 252
        },
        "outputId": "c707a1f3-71c2-44f8-e93f-d1da4ad7405f"
      },
      "source": [
        "np.tile(arr2,(3,2,2))"
      ],
      "execution_count": 11,
      "outputs": [
        {
          "output_type": "execute_result",
          "data": {
            "text/plain": [
              "array([[[1, 2, 3, 1, 2, 3],\n",
              "        [4, 5, 6, 4, 5, 6],\n",
              "        [1, 2, 3, 1, 2, 3],\n",
              "        [4, 5, 6, 4, 5, 6]],\n",
              "\n",
              "       [[1, 2, 3, 1, 2, 3],\n",
              "        [4, 5, 6, 4, 5, 6],\n",
              "        [1, 2, 3, 1, 2, 3],\n",
              "        [4, 5, 6, 4, 5, 6]],\n",
              "\n",
              "       [[1, 2, 3, 1, 2, 3],\n",
              "        [4, 5, 6, 4, 5, 6],\n",
              "        [1, 2, 3, 1, 2, 3],\n",
              "        [4, 5, 6, 4, 5, 6]]])"
            ]
          },
          "metadata": {
            "tags": []
          },
          "execution_count": 11
        }
      ]
    },
    {
      "cell_type": "code",
      "metadata": {
        "id": "T4bG_2sSi3c7",
        "colab_type": "code",
        "colab": {}
      },
      "source": [
        ""
      ],
      "execution_count": 0,
      "outputs": []
    }
  ]
}